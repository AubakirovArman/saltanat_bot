import requests


import requests

# URL для POST-запроса
url = 'http://127.0.0.1:8050/input/abvaxxss'

# Данные для отправки
data = {'message': {'sssasdasd':111123}}

# Отправка POST-запроса
response = requests.post(url, json=data)

# Проверка успешности запроса и вывод результата
if response.status_code == 200: 
    print('Success:', response.json())
else:
    print('Error:', response.status_code, response.text)


Success: {'connections': {'inputs': {}, 'outputs': {'object': [{'nodeId': 'kfqf-kjQHL', 'portName': 'message'}]}}, 'id': 'zS-_e9Myvj', 'inputData': {'data': {'dict': None}, 'name': {'in_string': 'ssczxzxc'}}, 'type': 'modules.nodeeditor.nodes_logic.nodes.response_in', 'width': 200, 'x': -168.5, 'y': -228.5}



