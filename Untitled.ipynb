{
 "cells": [
  {
   "cell_type": "code",
   "execution_count": 1,
   "id": "526b234a-4392-4776-bc6f-fcd1ac56504f",
   "metadata": {},
   "outputs": [],
   "source": [
    "import requests"
   ]
  },
  {
   "cell_type": "code",
   "execution_count": 16,
   "id": "471977ef-2170-4c2a-a4e0-89dbed670eff",
   "metadata": {},
   "outputs": [
    {
     "name": "stdout",
     "output_type": "stream",
     "text": [
      "Success: {'connections': {'inputs': {'order_type': [{'nodeId': 'bao55JT8ju', 'portName': 'object'}], 'quantity': [{'nodeId': 'BDjzmcQ8zE', 'portName': 'object'}], 'side': [{'nodeId': 'cDWHkbB_NA', 'portName': 'object'}], 'symbol': [{'nodeId': 'A3LiWyP88v', 'portName': 'object'}]}, 'outputs': {'object': [{'nodeId': 'fTHqcOyMm1', 'portName': 'obj'}]}}, 'id': 'kSbGdnTA6m', 'inputData': {'api_key': {'in_string': '05487d68436966b31863693fa77fe0c9e091446092d86e69194d86e8cf8131f0'}, 'api_secret': {'in_string': 'e8b533d748643eedbc1e0a49815da33540e055af25d016ca80a2fd011c7d2ebc'}, 'order_type': {'Literal': None}, 'position_side': {'Literal': None}, 'price': {'quantity': 0}, 'quantity': {'quantity': 0.01}, 'side': {'Literal': None}, 'symbol': {'in_string': 'BTCUSDT'}, 'time_in_force': {'Literal': None}}, 'type': 'modules.nodeeditor.nodes_logic.nodes.binance_futures_testnet_order', 'width': 200, 'x': 159.74993557400168, 'y': -76.6836549859298}\n"
     ]
    }
   ],
   "source": [
    "import requests\n",
    "\n",
    "# URL для POST-запроса\n",
    "url = 'http://127.0.0.1:8050/input/TESTNET2'\n",
    "\n",
    "# Данные для отправки\n",
    "data = {'side':'BUY','order_type':'MARKET', 'quantity': 0.01,'symbol':'BTCUSDT' }\n",
    "\n",
    "# Отправка POST-запроса\n",
    "response = requests.post(url, json=data)\n",
    "\n",
    "# Проверка успешности запроса и вывод результата\n",
    "if response.status_code == 200: \n",
    "    print('Success:', response.json())\n",
    "else:\n",
    "    print('Error:', response.status_code, response.text)"
   ]
  },
  {
   "cell_type": "code",
   "execution_count": null,
   "id": "6a828ccc-2c26-43ac-a922-5a3a7ad06465",
   "metadata": {},
   "outputs": [],
   "source": [
    "Success: {'connections': {'inputs': {}, 'outputs': {'object': [{'nodeId': 'kfqf-kjQHL', 'portName': 'message'}]}}, 'id': 'zS-_e9Myvj', 'inputData': {'data': {'dict': None}, 'name': {'in_string': 'ssczxzxc'}}, 'type': 'modules.nodeeditor.nodes_logic.nodes.response_in', 'width': 200, 'x': -168.5, 'y': -228.5}"
   ]
  },
  {
   "cell_type": "code",
   "execution_count": null,
   "id": "85087780-3b92-4bf4-a26c-7f054e79646f",
   "metadata": {},
   "outputs": [],
   "source": []
  }
 ],
 "metadata": {
  "kernelspec": {
   "display_name": "Python 3 (ipykernel)",
   "language": "python",
   "name": "python3"
  },
  "language_info": {
   "codemirror_mode": {
    "name": "ipython",
    "version": 3
   },
   "file_extension": ".py",
   "mimetype": "text/x-python",
   "name": "python",
   "nbconvert_exporter": "python",
   "pygments_lexer": "ipython3",
   "version": "3.11.7"
  }
 },
 "nbformat": 4,
 "nbformat_minor": 5
}
