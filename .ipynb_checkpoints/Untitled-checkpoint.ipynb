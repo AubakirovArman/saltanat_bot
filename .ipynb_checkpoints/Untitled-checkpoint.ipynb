{
 "cells": [
  {
   "cell_type": "code",
   "execution_count": 1,
   "id": "526b234a-4392-4776-bc6f-fcd1ac56504f",
   "metadata": {},
   "outputs": [],
   "source": [
    "import requests"
   ]
  },
  {
   "cell_type": "code",
   "execution_count": 2,
   "id": "471977ef-2170-4c2a-a4e0-89dbed670eff",
   "metadata": {},
   "outputs": [
    {
     "name": "stdout",
     "output_type": "stream",
     "text": [
      "Success: {'connections': {'inputs': {}, 'outputs': {'object': [{'nodeId': 'wIYHN6ix21', 'portName': 'data'}]}}, 'id': 'kJN4vlEqs-', 'inputData': {'data': {'dict': {'sssasdasd': 111123}}, 'name': {'in_string': 'avavav'}}, 'type': 'modules.nodeeditor.nodes_logic.nodes.response_in', 'width': 200, 'x': -627.0000255809111, 'y': -150.86036285962035}\n"
     ]
    }
   ],
   "source": [
    "import requests\n",
    "\n",
    "# URL для POST-запроса\n",
    "url = 'http://127.0.0.1:8050/input/avavav'\n",
    "\n",
    "# Данные для отправки\n",
    "data = {'message': {'sssasdasd':111123}}\n",
    "\n",
    "# Отправка POST-запроса\n",
    "response = requests.post(url, json=data)\n",
    "\n",
    "# Проверка успешности запроса и вывод результата\n",
    "if response.status_code == 200: \n",
    "    print('Success:', response.json())\n",
    "else:\n",
    "    print('Error:', response.status_code, response.text)"
   ]
  },
  {
   "cell_type": "code",
   "execution_count": null,
   "id": "6a828ccc-2c26-43ac-a922-5a3a7ad06465",
   "metadata": {},
   "outputs": [],
   "source": [
    "Success: {'connections': {'inputs': {}, 'outputs': {'object': [{'nodeId': 'kfqf-kjQHL', 'portName': 'message'}]}}, 'id': 'zS-_e9Myvj', 'inputData': {'data': {'dict': None}, 'name': {'in_string': 'ssczxzxc'}}, 'type': 'modules.nodeeditor.nodes_logic.nodes.response_in', 'width': 200, 'x': -168.5, 'y': -228.5}"
   ]
  },
  {
   "cell_type": "code",
   "execution_count": null,
   "id": "85087780-3b92-4bf4-a26c-7f054e79646f",
   "metadata": {},
   "outputs": [],
   "source": []
  }
 ],
 "metadata": {
  "kernelspec": {
   "display_name": "Python 3 (ipykernel)",
   "language": "python",
   "name": "python3"
  },
  "language_info": {
   "codemirror_mode": {
    "name": "ipython",
    "version": 3
   },
   "file_extension": ".py",
   "mimetype": "text/x-python",
   "name": "python",
   "nbconvert_exporter": "python",
   "pygments_lexer": "ipython3",
   "version": "3.11.7"
  }
 },
 "nbformat": 4,
 "nbformat_minor": 5
}
